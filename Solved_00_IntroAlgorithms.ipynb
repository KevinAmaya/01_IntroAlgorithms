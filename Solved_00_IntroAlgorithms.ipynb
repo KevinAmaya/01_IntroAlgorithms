{
  "nbformat": 4,
  "nbformat_minor": 0,
  "metadata": {
    "colab": {
      "name": "Solved 00_IntroAlgorithms.ipynb",
      "version": "0.3.2",
      "provenance": [],
      "collapsed_sections": []
    },
    "kernelspec": {
      "display_name": "Python [Root]",
      "language": "python",
      "name": "Python [Root]"
    }
  },
  "cells": [
    {
      "metadata": {
        "id": "3oxedQvB1c5p",
        "colab_type": "text",
        "slideshow": {
          "slide_type": "skip"
        }
      },
      "cell_type": "markdown",
      "source": [
        "[texto del enlace](https://)<table>\n",
        " <tr align=left><td><img align=left src=\"https://drive.google.com/uc?export=view&id=1edefIUL_iwWk4K3KtrNynSJ0Qvpdb2YY\">\n",
        " <td>Text provided under a Creative Commons Attribution license, CC-BY. All code is made available under the FSF-approved MIT license. (c) Francisco Gómez</td>\n",
        "</table>"
      ]
    },
    {
      "metadata": {
        "id": "Xq_hs1jGRtLR",
        "colab_type": "text"
      },
      "cell_type": "markdown",
      "source": [
        "*“when you don't create things, you become defined by your tastes rather than ability. your tastes only narrow & exclude people. so create.” *\n",
        "\n",
        "__Why The Lucky Stiff__"
      ]
    },
    {
      "metadata": {
        "id": "zYW3ZR0NSLk7",
        "colab_type": "text"
      },
      "cell_type": "markdown",
      "source": [
        "## Problemas"
      ]
    },
    {
      "metadata": {
        "id": "VGPAaTVmGR7h",
        "colab_type": "text"
      },
      "cell_type": "markdown",
      "source": [
        "Para los siguientes problemas:\n",
        "1. [Especifique en lenguaje natural](https://courses.cs.vt.edu/csonline/Algorithms/Lessons/SpecifyingAlgorithms/index.html)\n",
        "2. Escriba el código en pyhton para los siguientes problemas. \n",
        "\n",
        "Si no esta familiarizado con pyhton puede utilizar ([blocky](https://blockly-demo.appspot.com/static/demos/code/index.html))."
      ]
    },
    {
      "metadata": {
        "id": "B72fnfAPFZNz",
        "colab_type": "text"
      },
      "cell_type": "markdown",
      "source": [
        "* Escriba un programa que calcule el área total del cuerpo (Body surface area)."
      ]
    },
    {
      "metadata": {
        "id": "CZosDsZ8Mhp5",
        "colab_type": "text"
      },
      "cell_type": "markdown",
      "source": [
        "Especificación: Se utilizará la fórmula Du Bois para encontrar el número de área total del cuerpo (https://jamanetwork.com/journals/jamainternalmedicine/article-abstract/654069)\n",
        "* Step 1: Start \n",
        "* Step 2: Declarar dos variables para peso (w) y altura(h) \n",
        "* Step 3: Leer el valor de w y h  \n",
        "* Step 4:  Multiplicar el peso por la altura, dividir esto entre 3600 y finalmente encontrar la raíz cuadrada del resultado \n",
        "* Step 5: Imprimir el resultado\n",
        "* Step 6: Stop \n"
      ]
    },
    {
      "metadata": {
        "id": "JiCFfhv2FZWL",
        "colab_type": "code",
        "colab": {
          "base_uri": "https://localhost:8080/",
          "height": 52
        },
        "outputId": "ea8ef0ee-4467-4013-9335-a7946edb3929"
      },
      "cell_type": "code",
      "source": [
        "import math\n",
        "w, h = [float(x) for x in raw_input(\"input weight(kg) and height(cm): \").split()]\n",
        "print(\"Body surface area: \" + str(math.sqrt((w*h)/3600))+\" meters squared\")"
      ],
      "execution_count": 94,
      "outputs": [
        {
          "output_type": "stream",
          "text": [
            "input weight(kg) and height(cm): 80 180\n",
            "Body surface area: 2.0 meters squared\n"
          ],
          "name": "stdout"
        }
      ]
    },
    {
      "metadata": {
        "id": "FP5SChrPE1qp",
        "colab_type": "text"
      },
      "cell_type": "markdown",
      "source": [
        "* Se dice que dos cantidades $a$ y $b$ están en proporción aurea si la longitud total $a+b$ es al segmento más largo $a$, como $a$ es al segmento más corto $b$, es decir, para $a$ mayor que $b$ se tiene $\\frac{a}{b} = \\frac{a+b}{b}$. Esta razón define una constate llamada [número aureo $\\phi$](https://es.wikipedia.org/wiki/N%C3%BAmero_%C3%A1ureo) que aparece de forma recurrente en muchos fenómenos naturales. Se dice que la distancia del ombligo a la planta de los pies y la altura total de una persona están en proporción aurea. Utilizando la observación anterior y sus medidas experimentales encuentre una aproximación al número aureo $\\phi$. Utilizando la observación anterior y las medidas experimentales de 5, 7 y 10 compañeros encuentre una aproximación al número aureo $\\phi$."
      ]
    },
    {
      "metadata": {
        "id": "lDrps4GJMZCl",
        "colab_type": "text"
      },
      "cell_type": "markdown",
      "source": [
        "Especificación:\n",
        "* Step 1: Start \n",
        "* Step 2: Declarar dos arreglos que guardaran las alturas de los pies al ombligo (h_navel) y las altura total(h_upper)resultado (g_ratio)\n",
        "* Step 3: Iniciar un bucle que pasará por cada altura \n",
        "  * Step 3.1: Declarar la variable en donde se guardará el declarada en h_navel y h_upper\n",
        "  *  Step 3.2:  En el índice en que se encuentra. Sumar la variable de altura de los pies al ombligo con la variable del ombligo a la cabeza y dividir esto por la altura de los pies al ombligo. El resultado se sumará a la variable g_ratio\n",
        "* Step 4: Dividir la variable g_ratio entre el número de alturas pedidas\n",
        "* Step 5:  Imprimir el resultado\n",
        "* Step 6: Stop \n"
      ]
    },
    {
      "metadata": {
        "id": "HXJhejw4FLsy",
        "colab_type": "code",
        "colab": {
          "base_uri": "https://localhost:8080/",
          "height": 272
        },
        "outputId": "8aad26f5-306a-45be-8a11-0ee22343a0eb"
      },
      "cell_type": "code",
      "source": [
        "h_navel, h_upper = [[1.03,1.11,1.03,1.04,1.05,1.06,1.01,1.03,1.10,1.04],[0.68,0.75,0.66,0.65,0.69,0.68,0.69,0.68,0.78,0.66]]\n",
        "g_ratio = 0.0\n",
        "res = \"\"\n",
        "for i in range(0,len(h_navel)):\n",
        "  g_ratio += ((h_navel[i]+h_upper[i])/h_navel[i])\n",
        "  print(\"g_ratio for \"+str(i)+\": \"+str((h_navel[i]+h_upper[i])/h_navel[i]))\n",
        "  if i==4 or i==6 or i==9:\n",
        "    res += \"Average g_ratio for \" +str(i+1)+\" people = \"+str(g_ratio/(i+1))+\"\\n\"\n",
        "  \n",
        "g_ratio = (g_ratio/(len(h_navel)))\n",
        "res += \"Total g_ratio: \"+str(g_ratio)+\"\\n\"\n",
        "print(res)"
      ],
      "execution_count": 26,
      "outputs": [
        {
          "output_type": "stream",
          "text": [
            "g_ratio for 0: 1.66019417476\n",
            "g_ratio for 1: 1.67567567568\n",
            "g_ratio for 2: 1.64077669903\n",
            "g_ratio for 3: 1.625\n",
            "g_ratio for 4: 1.65714285714\n",
            "g_ratio for 5: 1.64150943396\n",
            "g_ratio for 6: 1.68316831683\n",
            "g_ratio for 7: 1.66019417476\n",
            "g_ratio for 8: 1.70909090909\n",
            "g_ratio for 9: 1.63461538462\n",
            "Average g_ratio for 5 people = 1.65175788132\n",
            "Average g_ratio for 7 people = 1.65478102249\n",
            "Average g_ratio for 10 people = 1.65873676259\n",
            "Total g_ratio: 1.65873676259\n",
            "\n"
          ],
          "name": "stdout"
        }
      ]
    },
    {
      "metadata": {
        "id": "OKKbv1BKFMex",
        "colab_type": "text"
      },
      "cell_type": "markdown",
      "source": [
        "- Calcule la suma de la serie de números $1+2+⋯+n$. [Hint](https://www.youtube.com/watch?v=aGUQ1bwio68)"
      ]
    },
    {
      "metadata": {
        "id": "oE6KYD3gMkiy",
        "colab_type": "text"
      },
      "cell_type": "markdown",
      "source": [
        "Especificación:\n",
        "*  Step 1:  Start \n",
        "*  Step 2:  Declarar las variables n y resultado\n",
        "*  Step 3:  Leer el valor de la variable n\n",
        "*  Step 4:  Imprimir el resultado de (n*(n+1))/2\n",
        "*  Step 5: Stop \n"
      ]
    },
    {
      "metadata": {
        "id": "1f_EIYa9FMp2",
        "colab_type": "code",
        "colab": {
          "base_uri": "https://localhost:8080/",
          "height": 51
        },
        "outputId": "3dd0b233-0d77-4b8e-c47d-7b5f0b6f0fed"
      },
      "cell_type": "code",
      "source": [
        "n, res = int(input(\"Digite el número n: \")),0\n",
        "print((n*(n+1))/2)"
      ],
      "execution_count": 28,
      "outputs": [
        {
          "output_type": "stream",
          "text": [
            "Digite el número n: 4\n",
            "10\n"
          ],
          "name": "stdout"
        }
      ]
    },
    {
      "metadata": {
        "id": "PgqWFNG5MH_S",
        "colab_type": "text"
      },
      "cell_type": "markdown",
      "source": [
        "- Dado un digito de tres cifras escriba un programa que calcule la suma de sus dígitos. Recuerde que los números negativos también tienen tres cifras."
      ]
    },
    {
      "metadata": {
        "id": "ip48gHdNMmkj",
        "colab_type": "text"
      },
      "cell_type": "markdown",
      "source": [
        "Especificación:\n",
        "* Step 1:  Start\n",
        "* Step 2:  Declarar las variables del número(n), resultado y un booleano para guardar si el número es negativo(is_neg) o no.\n",
        "* Step 3: Leer el valor del número y guardarlo en la variable n\n",
        "* Step 4: Si el número digitado es negativo multiplicarlo por -1 y señalar la variable is_neg como True\n",
        "*  Step 5:  Iniciar un bucle while que continue termine n sea menor que 0\n",
        "   * Step 5.1: Hallar n módulo 10 y sumarlo al resultado\n",
        "   * Step 5.2:  Dividir n entre 10 y asignarlo a n\n",
        "*  Step 6:  Si la variable is_neg es True entonces multiplicar el resultado por -1\n",
        "* Step 7:  Imprimir el resultado\n",
        "* Step 8: Stop "
      ]
    },
    {
      "metadata": {
        "id": "CUESPjKTMIJS",
        "colab_type": "code",
        "colab": {
          "base_uri": "https://localhost:8080/",
          "height": 51
        },
        "outputId": "d56a79f9-6ea7-4284-8e6c-6ba96b282a23"
      },
      "cell_type": "code",
      "source": [
        "n,res,is_neg = int(input(\"Digite el número: \")),0, False\n",
        "if(n<0):\n",
        "  n = n*-1\n",
        "  neg = True\n",
        "while n>0:\n",
        "  res += n%10\n",
        "  n /= 10\n",
        "if is_neg:\n",
        "  res = res*-1\n",
        "print(res)"
      ],
      "execution_count": 35,
      "outputs": [
        {
          "output_type": "stream",
          "text": [
            "Digite el número: 15\n",
            "6\n"
          ],
          "name": "stdout"
        }
      ]
    },
    {
      "metadata": {
        "id": "w6aG4ekFFfv8",
        "colab_type": "text"
      },
      "cell_type": "markdown",
      "source": [
        "- Calcule la distancia más corta de un punto a una línea."
      ]
    },
    {
      "metadata": {
        "id": "AkFlA74GMuag",
        "colab_type": "text"
      },
      "cell_type": "markdown",
      "source": [
        "Especificación: \n",
        "Asumiendo que se trabaja en geometria euclidiana, la distancia más corta entre un punto y una linea se daría por la formula expresada en este articulo (https://brilliant.org/wiki/dot-product-distance-between-point-and-a-line/):\n",
        "* Step 1:  Start \n",
        "* Step 2:  Declarar las variables a, b, c para definir la formula de la línea con la que se desea hallar la distancia (a,b,c como definidas en la formula ax+by+c=0) \n",
        "* Step 3: Leer los valores de a,b,c.\n",
        "* Step 4:  Declarar las x, y para guardar las coordenadas del punto\n",
        "* Step 5:  Leer los valores de x,y.\n",
        "* Step 6:  Multiplicar a por x y sumarle a por y. Dividir el resultado por la raíz cuadrada de la suma de a al cuadrado y b al cuadrado. \n",
        "* Step 7:  Encontrar el valor absoluto del resultado del punto anterior\n",
        "* Step 8:  Imprimir el resultado\n",
        "* Step 9: Stop "
      ]
    },
    {
      "metadata": {
        "id": "G3Sn_VezMks_",
        "colab_type": "code",
        "colab": {
          "base_uri": "https://localhost:8080/",
          "height": 69
        },
        "outputId": "88aa8d0e-225b-45d7-e70a-b603fb0cc89a"
      },
      "cell_type": "code",
      "source": [
        "import math\n",
        "a,b,c = [float(x) for x in raw_input(\"Input a,b and c values: \").split()]\n",
        "d_x,d_y = [float(x) for x in raw_input(\"Input x,y dot coordinates: \").split()]\n",
        "res = math.fabs((a*d_x)+(b*d_y)-c)/math.sqrt((a*a)+(b*b))\n",
        "print(res)"
      ],
      "execution_count": 15,
      "outputs": [
        {
          "output_type": "stream",
          "text": [
            "Input the a,b and c values: 2 4 5\n",
            "Input the x,y dot coordinates: -3 2\n",
            "0.67082039325\n"
          ],
          "name": "stdout"
        }
      ]
    },
    {
      "metadata": {
        "id": "47xu0dynFw9R",
        "colab_type": "text"
      },
      "cell_type": "markdown",
      "source": [
        "- Dadas las coordenadas de un triángulo verifique si es equilátero"
      ]
    },
    {
      "metadata": {
        "id": "ip0bTLoOMo6a",
        "colab_type": "text"
      },
      "cell_type": "markdown",
      "source": [
        "Especificación: \n",
        "* Step 1: Start\n",
        "* Step 2:  Declarar una función que permita obtener la longitud de la linea datos los punto extremos de la recta (x1,y1) y (x2,y2). La formula es sqrt(((y2-y1)*(y2-y1))+((x1-x2)*(x1-x2)))\n",
        "* Step 3:  Dentro de la funcion, retornar la raiz cuadrada de (y2-y1)^2 + (x2-x1)^2\n",
        "* Step 4:  Declarar y pedirle al usuario los puntos x1, y1, x2,\n",
        "* Step 5:  Declarar las variables para guardar la longitud de las lineas (l1, l2, l3)\n",
        "* Step 6:  Obtener (con la ayuda de la función declara al inicio) las longitudes de todas las lineas del triangulos\n",
        "* Step 7:  Si la longitud de las 3 lineas son iguales imprimir que es equilatero de otra forma imprimir que no es equilatero\n",
        "* Step 8: Stop"
      ]
    },
    {
      "metadata": {
        "id": "MzX3bSIxFxIa",
        "colab_type": "code",
        "colab": {
          "base_uri": "https://localhost:8080/",
          "height": 52
        },
        "outputId": "49044e84-0132-4cc1-bfd9-a13f5b8cad7e"
      },
      "cell_type": "code",
      "source": [
        "import math\n",
        "def getLineLength(x1,y1,x2,y2):\n",
        "  return math.sqrt(((y2-y1)*(y2-y1))+((x1-x2)*(x1-x2)))\n",
        "x1,y1,x2,y2,x3,y3 = [float(x) for x in raw_input().split() ]\n",
        "l1,l2,l3 = getLineLength(x1,y1,x2,y2),getLineLength(x2,y2,x3,y3),getLineLength(x3,y3,x1,y1)\n",
        "if str(l1) == str(l2) == str(l3):\n",
        "  print(\"Es equilatero\")\n",
        "else:\n",
        "  print(\"No es equilatero\") "
      ],
      "execution_count": 29,
      "outputs": [
        {
          "output_type": "stream",
          "text": [
            "1 0 -1 0 2 3\n",
            "No es equilatero\n"
          ],
          "name": "stdout"
        }
      ]
    },
    {
      "metadata": {
        "id": "U_pGWTaMH3Bj",
        "colab_type": "text"
      },
      "cell_type": "markdown",
      "source": [
        "- Determine la ecuación de la [recta de Euler](https://es.wikipedia.org/wiki/Recta_de_Euler)."
      ]
    },
    {
      "metadata": {
        "id": "H11fWvIjMqPC",
        "colab_type": "text"
      },
      "cell_type": "markdown",
      "source": [
        "Especificación:\n",
        "*  Step 1: Start\n",
        "*  Step 2:  Pedir los valores de los 3 ángulos de las vertices del triangulo (A,B,C)\n",
        "*  Step 3:  Obterner el valor de a en la ecuación. Dada la ecuación sin(2*A)*sin(B-C)\n",
        "*  Step 4:  Obterner el valor de b en la ecuación. Dada la ecuación sin(2*B)*sin(C-A)\n",
        "*  Step 5:  Obterner el valor de c en la ecuación. Dada la ecuación sin(2*C)*sin(A-B)\n",
        "*  Step 6:  Imprimir la ecuación a(x) + b(y) + c(z) = 0\n",
        "*  Step 7:  Stop\n"
      ]
    },
    {
      "metadata": {
        "id": "ovco97_WH202",
        "colab_type": "code",
        "colab": {
          "base_uri": "https://localhost:8080/",
          "height": 52
        },
        "outputId": "fcbe45ed-ba1e-4656-d297-f778cc5868da"
      },
      "cell_type": "code",
      "source": [
        "import math\n",
        "\n",
        "A,B,C = [float(x) for x in raw_input().split()]\n",
        "a = math.sin(2*A)*math.sin(B-C)\n",
        "b = math.sin(2*B)*math.sin(C-A)\n",
        "c = math.sin(2*C)*math.sin(A-B)\n",
        "print(str(a)+\"x + \"+str(b)+\"y +\"+str(c)+\"z = 0\")"
      ],
      "execution_count": 25,
      "outputs": [
        {
          "output_type": "stream",
          "text": [
            "20 29 30\n",
            "-0.626991104942x + -0.540143680983y +0.125618091454z = 0\n"
          ],
          "name": "stdout"
        }
      ]
    },
    {
      "metadata": {
        "id": "zenG-SPxJerZ",
        "colab_type": "text"
      },
      "cell_type": "markdown",
      "source": [
        "- Calcule el área de dos círculos que se sobrelapan."
      ]
    },
    {
      "metadata": {
        "id": "LP8Cvq59MrMC",
        "colab_type": "text"
      },
      "cell_type": "markdown",
      "source": [
        "Especificación: En este caso se asumira que tenemos el radio de ambos circulos y la distancia de  sus centros (de no ser así tocaría hallarla):\n",
        "\n",
        "*  Step 1: Start\n",
        "*  Step 2: Declarar las variables x,y,r (primer circulo) y x1,y1, r1 (Segundo circulo)\n",
        "*  Step 3: Leer las variables x,y,r (primer circulo) y x1,y1, r1 (Segundo circulo)\n",
        "*  Step 4: Declarar la variable res e inicializarla con 0\n",
        "*  Step 5: Declarar la variable d (distancia entre centros)\n",
        "*  Step 6: Asignarle el resultado de sqrt((x1-x)*(x1-x)+(y1-y)*(y1-y)) a la variable d\n",
        "*  Step 7: Si la distancia es mayor que la suma de radios no se sobrelapan los circulos y por lo tanto res = 0\n",
        "*  Step 8: Si la distancia es menor o igual que la suma de radios no se sobrelapan los circulos y el radio del circulo 1 es mayor que el de circulo 2 entonces circulo 1 esta dentro del circulo 2. res = pi*(r*r)\n",
        "*  Step 9: Si la distancia es menor o igual que la suma de radios no se sobrelapan los circulos y el radio del circulo 2 es mayor que el de circulo 1 entonces circulo 2 esta dentro del circulo 1. res = pi*(r1*r1)\n",
        "*  Step 10: Si Ninguna de las condiciones anteriores se cumplen los circulos se sobrelapan pero ninguno se encuentra totalmente dentro del otro. Por lo tanto:\n",
        "  *  Step 10.1:  Inicializar la variable p con el valor de (acos(((r*r)+(d * d) - (r1*r1)) / (2 * r * d))) * 2\n",
        "  *  Step 10.2:  Inicializar la variable t con el valor de(acos(((r*r)+(d * d) - (r*r)) / (2 * r1 * d))) * 2\n",
        "  *  Step 10.3:  Inicializar la variable a1 con el valor de (0.5*t*(r1*r1))-(0.5*(r1*r1)*sin(t))\n",
        "  *  Step 10.4:  Inicializar la variable a1 con el valor de (0.5*t*(r*r))-(0.5*(r1*r1)*sin(p))\n",
        "  * Step 10.5 Asignarle a res el resultado de a1+a2\n",
        "* Step 11: Imprimir el valor de la variable res\n",
        "* Step 12: Stop"
      ]
    },
    {
      "metadata": {
        "id": "w2ogfRuDJX3j",
        "colab_type": "code",
        "colab": {
          "base_uri": "https://localhost:8080/",
          "height": 52
        },
        "outputId": "0136aeb7-aee9-4e47-8ec9-1d19ea3d6dec"
      },
      "cell_type": "code",
      "source": [
        "from math import sqrt, fabs, pi, acos, sin\n",
        "\n",
        "x,y,r,x1,y1,r1=[float(x) for x in raw_input().split()]\n",
        "res = 0\n",
        "d = sqrt((x1-x)*(x1-x)+(y1-y)*(y1-y))\n",
        "if d > r1 + r:\n",
        "  res = 0;\n",
        "elif (d<=fabs(r-r1) and r<r1):\n",
        "  res = pi*(r*r)\n",
        "elif (d<=fabs(r-r1) and r>=r1):\n",
        "  res = pi*(r1*r1)\n",
        "else:\n",
        "  p = (acos(((r*r)+(d * d) - (r1*r1)) / (2 * r * d))) * 2\n",
        "  t = (acos(((r1*r1)+(d * d) - (r*r)) / (2 * r1 * d))) * 2\n",
        "  a1 = (0.5*t*(r1*r1))-(0.5*(r1*r1)*sin(t))\n",
        "  a2 = (0.5*p*(r*r))-(0.5*(r*r)*sin(p))\n",
        "  res = a1+a2\n",
        "print(res)"
      ],
      "execution_count": 49,
      "outputs": [
        {
          "output_type": "stream",
          "text": [
            "0 0 2 0 0 1\n",
            "3.14159265359\n"
          ],
          "name": "stdout"
        }
      ]
    },
    {
      "metadata": {
        "id": "fukHFin_JXyz",
        "colab_type": "text"
      },
      "cell_type": "markdown",
      "source": [
        "- El siguiente problema fue formulado por Leonardo de Pisa (Liber Abaci - 1202): Cierto hombre tenía una pareja de conejos juntos en un lugar cerrado. ¿Cuantos conejos nacen de este par en un año, si su naturaleza es parir otro par en un mes, y el el segundo mes los nacidos pueden parir también?. Calcule el número de parejas después de 70 meses. Sea $f_n$ el número de parejas al final del $n$-esimo mes."
      ]
    },
    {
      "metadata": {
        "id": "A3A7MoHiMr6q",
        "colab_type": "text"
      },
      "cell_type": "markdown",
      "source": [
        "Especificación: Dado que el crecimiento de conejos es dado por la serie de fibonacci  {1,1,2,3,5,8...}, su implementación en código sera idéntica aunque de manera no recursiva:\n",
        "* Step 1: Start\n",
        "* Step 2: Declarar las variables n2, y n para inicializar la secuencia de fibonacci (0,1 respectivamente)\n",
        "* Step 3: Declarar la variable de meses e igualarla a 70 (para este ejercicio en particular)\n",
        "* Step 4: Iniciar un bucle que ira desde 0 hasta el mes deseado menos 1\n",
        "   * Step 4.1: En el bucle crear una variable temporal que guarde el valor actual de n\n",
        "   * Step 4.2: Igualar a n por n+n2\n",
        "   * Step 4.3:  Igualar a n2 por la variable temporal\n",
        "* Step 5: Imprimir el numero n, este indicara el número de parejas de conejos al final del n-esimo mes\n",
        "* Step 6: Stop"
      ]
    },
    {
      "metadata": {
        "id": "T9Oz5VJ6Jex5",
        "colab_type": "code",
        "colab": {
          "base_uri": "https://localhost:8080/",
          "height": 34
        },
        "outputId": "3c2f7394-8003-4c46-e57d-d977f2ec69a9"
      },
      "cell_type": "code",
      "source": [
        "n2, n = 0,1\n",
        "months = 70\n",
        "\n",
        "for i in range(0,months-1):\n",
        "  temp = n\n",
        "  n = n+n2\n",
        "  n2 = temp\n",
        "\n",
        "print(\"Número de parejas después de \"+str(months)+\" meses: \"+str(n))\n"
      ],
      "execution_count": 116,
      "outputs": [
        {
          "output_type": "stream",
          "text": [
            "Número de parejas después de 70 meses: 190392490709135\n"
          ],
          "name": "stdout"
        }
      ]
    },
    {
      "metadata": {
        "id": "NdlROrJqLOw0",
        "colab_type": "text"
      },
      "cell_type": "markdown",
      "source": [
        "- Usted está en una carrera de bicicletas que sube y baja una montaña. Un indicador define cuatro variables para: distancia de subida y distancia de bajada (en km) de ambas partes de la carrera, y tiempo de subida y tiempo de bajada (en minutos). Escriba un programa que imprima su velocidad media (en km/min) para toda la carrera."
      ]
    },
    {
      "metadata": {
        "id": "n2iiPoqKMs2T",
        "colab_type": "text"
      },
      "cell_type": "markdown",
      "source": [
        "Especificación:\n",
        "* Step 1: Start\n",
        "* Step 2: Incializar las variables de distancia de subida(d_s), bajada (d_b), tiempo de subida(t_s) y bajada (t_b) y pedirle el valor de todas las variables al usuario\n",
        "* Step 3: Crear una variable para guardar la velocidad media de bajada y asignarle el valor de distancia de bajada dividido entre el tiempo de bajada\n",
        "* Step 4: Crear una variable para guardar la velocidad media de subida y asignarle el valor de distancia de subida dividido entre el tiempo de subida\n",
        "* Step 5: Imprimir la velocidad de subida mas la velocidad de bajada dividida entre 2\n",
        "* Step 6: Stop"
      ]
    },
    {
      "metadata": {
        "id": "eDstK3v-LO4j",
        "colab_type": "code",
        "colab": {
          "base_uri": "https://localhost:8080/",
          "height": 52
        },
        "outputId": "67d414f5-bb16-49e9-9cff-12c642c11371"
      },
      "cell_type": "code",
      "source": [
        "t_s, d_s, t_b, d_b = [ float(x) for x in raw_input().split()]\n",
        "vm_s = d_s/t_s\n",
        "vm_b = d_b/t_b\n",
        "print((vm_s+vm_b)/2)"
      ],
      "execution_count": 40,
      "outputs": [
        {
          "output_type": "stream",
          "text": [
            "2 4 2 6\n",
            "2.5\n"
          ],
          "name": "stdout"
        }
      ]
    },
    {
      "metadata": {
        "id": "gpf7U7o3cLQJ",
        "colab_type": "text"
      },
      "cell_type": "markdown",
      "source": [
        ""
      ]
    },
    {
      "metadata": {
        "id": "2YEF4oHZLYa6",
        "colab_type": "text"
      },
      "cell_type": "markdown",
      "source": [
        "- Escriba un programa que intercambie los valores de dos variables\n"
      ]
    },
    {
      "metadata": {
        "id": "ZcRI6u_aMtwU",
        "colab_type": "text"
      },
      "cell_type": "markdown",
      "source": [
        "Especificación:\n",
        "* Step 1: Start\n",
        "* Step 2: Crear dos variables a y b para intercambiar y pedirle al usuario sus valores\n",
        "* Step 3: Crear una variable temporaly asignarle el valor de a\n",
        "* Step 4: Asignar a la variable a el valor de b\n",
        "* Step 5: Asignar a b el valor de la variable temporal\n",
        "* Step 6: Imprimir los valores de ambas variables \n",
        "* Step 7: Stop"
      ]
    },
    {
      "metadata": {
        "id": "cNe4oEamLYhT",
        "colab_type": "code",
        "colab": {
          "base_uri": "https://localhost:8080/",
          "height": 69
        },
        "outputId": "d247bf5f-27a4-43f8-a465-970f8a711e9c"
      },
      "cell_type": "code",
      "source": [
        "a,b = [ int(x) for x in raw_input().split()]\n",
        "print(\"Original numbers: a:\"+str(a)+\" b:\"+str(b))\n",
        "a,b = b,a\n",
        "print(\"Swapped numbers: a:\"+str(a)+\" b:\"+str(b))"
      ],
      "execution_count": 1,
      "outputs": [
        {
          "output_type": "stream",
          "text": [
            "3 5\n",
            "Original numbers: a:3 b:5\n",
            "Swapped numbers: a:5 b:3\n"
          ],
          "name": "stdout"
        }
      ]
    },
    {
      "metadata": {
        "id": "ktfb0irLLdNT",
        "colab_type": "text"
      },
      "cell_type": "markdown",
      "source": [
        "- Encuentre el área y el volumen de un cono de helado."
      ]
    },
    {
      "metadata": {
        "id": "0MSzOhZWMuaL",
        "colab_type": "text"
      },
      "cell_type": "markdown",
      "source": [
        "Especificación: Se asumira que un cono de helado es compuesto por una perfecta semiesfera en el tope y un cono invertido como cucurucho.\n",
        "* Step 1: Start\n",
        "* Step 2: Se declaran las variables que guardan los valores del radio del cucurucho (r_base), la altura del cucurucho (h_base) y el radio del tope del cono de helado (r_top)\n",
        "* Step 3: Se calcula el volumen de la base (v_base) como (pi*(r_base^2)*h_base)/3\n",
        "* Step 4: Se calcula el volumen del tope del cono como (2*pi*(r_top^3))/3\n",
        "imprimir la suma de ambos volumes\n",
        "* Step 5: Stop"
      ]
    },
    {
      "metadata": {
        "id": "8ptAR6V8ctyJ",
        "colab_type": "code",
        "colab": {
          "base_uri": "https://localhost:8080/",
          "height": 52
        },
        "outputId": "64ace882-a3d4-4a21-ad19-0679805a6dca"
      },
      "cell_type": "code",
      "source": [
        "import math\n",
        "r_base,h_base,r_top = [int(x) for x in raw_input().split()]\n",
        "v_base = (math.pi*(r_base*r_base)*h_base)/3\n",
        "v_top = (2*math.pi*(r_top*r_top*r_top))/3\n",
        "print(\"Volumen helado: \" + str(v_top + v_base)+\"cm3\")"
      ],
      "execution_count": 119,
      "outputs": [
        {
          "output_type": "stream",
          "text": [
            "3 4 4\n",
            "Volumen helado: 171.740398396cm3\n"
          ],
          "name": "stdout"
        }
      ]
    },
    {
      "metadata": {
        "id": "L_BuS64vLxpL",
        "colab_type": "text"
      },
      "cell_type": "markdown",
      "source": [
        "- En una clase, N estudiantes tienen que estar sentados de tal manera que cada fila tenga el mismo número de estudiantes que las otras. Si por lo menos X estudiantes deben sentarse por fila y por lo menos X filas tienen que estar allí, entonces cuántos arreglos son posibles?"
      ]
    },
    {
      "metadata": {
        "id": "9ldOxAfoMvGw",
        "colab_type": "text"
      },
      "cell_type": "markdown",
      "source": [
        "Especificación:\n",
        "* Step 1: Start\n",
        "* Step 2: Inicializar las variables n, x_est (estudiantes) y x_rows (filas)\n",
        "* Step 3: Leer las variables n, x_est (estudiantes) y x_rows (filas)\n",
        "* Step 4: Inicializar un arreglo vacio llamado res\n",
        "* Step 5: Iniciar un bucle que vaya desde el numero 1 hasta el numero (n/2)+1\n",
        "  * Step 6: Si n%i = 0 entonces:\n",
        "    * Step 6: Si n/i >= x y i>=x_rows entonces añadir un elemento tupla (n/i, i) al arreglo res\n",
        "* Step 7: Imprimir la longitud del arreglo res\n",
        "* Stop 8: Stop"
      ]
    },
    {
      "metadata": {
        "id": "52fQSefkLxyJ",
        "colab_type": "code",
        "colab": {
          "base_uri": "https://localhost:8080/",
          "height": 52
        },
        "outputId": "399b1412-0253-49c1-b581-492e449e1632"
      },
      "cell_type": "code",
      "source": [
        "n, x_est, x_rows = [ int(x) for x in raw_input(\"Digite n, x estudiantes y x filas: \").split()]\n",
        "res = []\n",
        "\n",
        "for i in range(1,n/2+1):\n",
        "  if n%i==0:\n",
        "    if (n/i)>=x_est and i>=x_rows:\n",
        "      res.append((n/i,i))\n",
        "print(\"Arreglos posibles: \"+str(len(res)))"
      ],
      "execution_count": 17,
      "outputs": [
        {
          "output_type": "stream",
          "text": [
            "Digite n, x estudiantes y x filas: 10 2 2\n",
            "Arreglos posibles: 2\n"
          ],
          "name": "stdout"
        }
      ]
    },
    {
      "metadata": {
        "id": "l4dJ4_JONfwx",
        "colab_type": "text"
      },
      "cell_type": "markdown",
      "source": [
        "- ¿Cuántos billetes de cada cantidad (100.000, 50.000, 20.000 y 10.000) debe entregar un cajero automático que sigue las siguientes reglas?: El usuario puede pedir hasta un máximo de 1.200.000 y mínimo 10.000, los valores pedidos son múltiplos de 10.000. El cajero debe entregar la cantidad máxima de billetes de 50.000 que se pueden entregar, luego de billetes de 20.000 y el residuo con 10.000?. Por ejemplo, al solicitar 280.000 el programa responde: 5 billetes de 50.000 + 1 billete de 20.000 y 1 billete de 10.000. Si la solicitud es 40.000 entonces se responde: 0 billetes de 50.000 + 2 billetes de 20.000 + 0 billetes de 10.000."
      ]
    },
    {
      "metadata": {
        "id": "XG16hSMONg1y",
        "colab_type": "text"
      },
      "cell_type": "markdown",
      "source": [
        "Especificación:\n",
        "* Step 1: Start\n",
        "* Step 2: Inicializar la variable total_m (total  a retirar)\n",
        "* Step 3: Leer la variable total_m (total  a retirar)\n",
        "* Step 4: Si no se cumple que total_m>=10000 and total_m<=1200000 y total_m%10==0 entonces se imprime un error.\n",
        "* Step 5: Si no se cumple la anterior condición entonces\n",
        "  * Step 5.1: Inicializar las variables b_50 (billetes 50000),  b_20 (billetes 20000) y  b_10 (billetes 10000) y asignarles el valor de 0 a todas\n",
        "  * Step 5.2 : Asignarle a b_50 el valor de total_m/50000\n",
        "  * Step 5.3: Restarle a total_m el valor de b_50 * 50000\n",
        "  * Step 5.4: Asignarle a b_20 el valor de total_m/20000\n",
        "  * Step 5.5: Restarle a total_m el valor de b_50 * 20000\n",
        "  * Step 5.6: Asignarle a b_10 el valor de total_m/10000\n",
        "  * Step 5.7: Restarle a total_m el valor de b_50 * 10000\n",
        "  * Imprimir los valores de b_50, b_20 y b_10"
      ]
    },
    {
      "metadata": {
        "id": "sb1szdLXNirU",
        "colab_type": "code",
        "colab": {
          "base_uri": "https://localhost:8080/",
          "height": 86
        },
        "outputId": "1ce4ab12-112f-4664-d922-824a19b7099c"
      },
      "cell_type": "code",
      "source": [
        "total_m = input(\"Digite la cantidad que desea retirar: \")\n",
        "if total_m>=10000 and total_m<=1200000 and total_m%10==0:\n",
        "  b_50,b_20,b_10 = 0,0,0\n",
        "  b_50 = total_m/50000 \n",
        "  total_m -= b_50*50000\n",
        "  b_20 = total_m/20000 \n",
        "  total_m -= b_20*20000\n",
        "  b_10 = total_m/10000 \n",
        "  total_m -= b_10*10000\n",
        "\n",
        "  print(\"No Billetes de 50.000: \"+str(b_50))\n",
        "  print(\"No Billetes de 20.000: \"+str(b_20))\n",
        "  print(\"No Billetes de 10.000: \"+str(b_10))\n",
        "else:\n",
        "  print(\"La cantidad solicitada es inválida\")"
      ],
      "execution_count": 83,
      "outputs": [
        {
          "output_type": "stream",
          "text": [
            "Digite la cantidad que desea retirar: 100000\n",
            "No Billetes de 50.000: 2\n",
            "No Billetes de 20.000: 0\n",
            "No Billetes de 10.000: 0\n"
          ],
          "name": "stdout"
        }
      ]
    }
  ]
}