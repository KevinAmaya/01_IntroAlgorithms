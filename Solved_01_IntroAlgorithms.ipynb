{
  "nbformat": 4,
  "nbformat_minor": 0,
  "metadata": {
    "colab": {
      "name": "Solved 01_IntroAlgorithms.ipynb",
      "version": "0.3.2",
      "provenance": [],
      "collapsed_sections": []
    },
    "kernelspec": {
      "display_name": "Python [Root]",
      "language": "python",
      "name": "Python [Root]"
    }
  },
  "cells": [
    {
      "metadata": {
        "id": "3oxedQvB1c5p",
        "colab_type": "text",
        "slideshow": {
          "slide_type": "skip"
        }
      },
      "cell_type": "markdown",
      "source": [
        "[texto del enlace](https://)<table>\n",
        " <tr align=left><td><img align=left src=\"https://drive.google.com/uc?export=view&id=1edefIUL_iwWk4K3KtrNynSJ0Qvpdb2YY\">\n",
        " <td>Text provided under a Creative Commons Attribution license, CC-BY. All code is made available under the FSF-approved MIT license. (c) Francisco Gómez</td>\n",
        "</table>"
      ]
    },
    {
      "metadata": {
        "id": "Xq_hs1jGRtLR",
        "colab_type": "text"
      },
      "cell_type": "markdown",
      "source": [
        "*“when you don't create things, you become defined by your tastes rather than ability. your tastes only narrow & exclude people. so create.” *\n",
        "\n",
        "__Why The Lucky Stiff__"
      ]
    },
    {
      "metadata": {
        "id": "zYW3ZR0NSLk7",
        "colab_type": "text"
      },
      "cell_type": "markdown",
      "source": [
        "## Problemas"
      ]
    },
    {
      "metadata": {
        "id": "vzZQ0_EB2ZRo",
        "colab_type": "code",
        "colab": {}
      },
      "cell_type": "code",
      "source": [
        ""
      ],
      "execution_count": 0,
      "outputs": []
    },
    {
      "metadata": {
        "id": "VGPAaTVmGR7h",
        "colab_type": "text"
      },
      "cell_type": "markdown",
      "source": [
        "Para los siguientes problemas:\n",
        "1. [Especifique en lenguaje natural](https://courses.cs.vt.edu/csonline/Algorithms/Lessons/SpecifyingAlgorithms/index.html)\n",
        "2. Escriba el código en pyhton para los siguientes problemas. \n",
        "\n",
        "Si no esta familiarizado con pyhton puede utilizar ([blocky](https://blockly-demo.appspot.com/static/demos/code/index.html))."
      ]
    },
    {
      "metadata": {
        "id": "B72fnfAPFZNz",
        "colab_type": "text"
      },
      "cell_type": "markdown",
      "source": [
        "* Calcule el área de un triángulo equilatero."
      ]
    },
    {
      "metadata": {
        "id": "CZosDsZ8Mhp5",
        "colab_type": "text"
      },
      "cell_type": "markdown",
      "source": [
        "Especificación:\n",
        "* Step 1: Start\n",
        "* Step 2: Declarar variables longitud (l).\n",
        "* Step 3: Leer el valor de l .\n",
        "* Step 4: Imprimir el resultado de la ecuacion (sqrt(3)/4)* (l^2)\n",
        "* Step 6: Stop"
      ]
    },
    {
      "metadata": {
        "id": "JiCFfhv2FZWL",
        "colab_type": "code",
        "colab": {
          "base_uri": "https://localhost:8080/",
          "height": 52
        },
        "outputId": "ac129db0-c5f5-4746-f23d-e52de5627d40"
      },
      "cell_type": "code",
      "source": [
        "import math\n",
        "l = float(raw_input(\"Ingrese la longitud de uno de los lados del triangulo: \"))\n",
        "print(\"El area del triangulo es: \"+str((math.sqrt(3)/4)*l*l))"
      ],
      "execution_count": 66,
      "outputs": [
        {
          "output_type": "stream",
          "text": [
            "Ingrese la longitud de uno de los lados del triangulo: 20.8\n",
            "El area del triangulo es: 187.338615347\n"
          ],
          "name": "stdout"
        }
      ]
    },
    {
      "metadata": {
        "id": "FP5SChrPE1qp",
        "colab_type": "text"
      },
      "cell_type": "markdown",
      "source": [
        "* Verifique si un punto cualquiera en el plano se encuentra dentro de un circulo de radio 15 y centro en ()0,0)."
      ]
    },
    {
      "metadata": {
        "id": "lDrps4GJMZCl",
        "colab_type": "text"
      },
      "cell_type": "markdown",
      "source": [
        "Especificación:\n",
        "* Step 1: Start\n",
        "* Step 2: Declarar variables x,y.\n",
        "* Step 3: Leer el valor de x,y.\n",
        "* Step 4: Declarar la variable d\n",
        "* Step 5: Resolver la ecuación sqrt((x^2)+(y^2)) y guardar el resultado en d\n",
        "* Step 6: Si d es menor o igual que 15 imprimir que el punto esta en el circulo\n",
        "* Step 7: Si d es mayor que 15 imprimir que el punto no esta en el circulo\n",
        "* Step 8: Stop"
      ]
    },
    {
      "metadata": {
        "id": "HXJhejw4FLsy",
        "colab_type": "code",
        "colab": {
          "base_uri": "https://localhost:8080/",
          "height": 52
        },
        "outputId": "b14e1057-5c07-4880-f261-536e650b7121"
      },
      "cell_type": "code",
      "source": [
        "import math\n",
        "x, y  = [float(x) for x in raw_input(\"Digite las coordenadas x y y \").split()]\n",
        "d = math.sqrt((x*x) + (y*y))\n",
        "if d <= 15:\n",
        "  print(\"El punto esta dentro del circulo\")\n",
        "else:\n",
        "  print(\"El punto no esta dentro del circulo\")"
      ],
      "execution_count": 65,
      "outputs": [
        {
          "output_type": "stream",
          "text": [
            "Digite las coordenadas x y y 0 -12\n",
            "El punto esta dentro del circulo\n"
          ],
          "name": "stdout"
        }
      ]
    },
    {
      "metadata": {
        "id": "OKKbv1BKFMex",
        "colab_type": "text"
      },
      "cell_type": "markdown",
      "source": [
        "- Encuentre el área y el volumén de un toro"
      ]
    },
    {
      "metadata": {
        "id": "oE6KYD3gMkiy",
        "colab_type": "text"
      },
      "cell_type": "markdown",
      "source": [
        "Especificación: Si pensamos en un Toro como la figura geometrica y no el animal, entonces:\n",
        "\n",
        "* Step 1: Start\n",
        "* Step 2: Declarar variables radio menor (r) y Radio mayor (R).\n",
        "* Step 3: Imprimir el resultado de 4*pi^2*r*R (Area) y  2*pi^2*r^2*R (Volumen).\n",
        "* Step 4: Stop"
      ]
    },
    {
      "metadata": {
        "id": "1f_EIYa9FMp2",
        "colab_type": "code",
        "colab": {
          "base_uri": "https://localhost:8080/",
          "height": 52
        },
        "outputId": "20e4f96c-40d1-4882-cd6a-e826846f4e32"
      },
      "cell_type": "code",
      "source": [
        "from math import pi\n",
        "r, R = [float(x) for x in raw_input(\"Digite el radio menor y el mayor: \").split()]\n",
        "print(\"El area es: \"+str(4*pi*r*pi*R)+ \" y el volumen es: \"+ str(pi*r*r*2*pi*R))"
      ],
      "execution_count": 113,
      "outputs": [
        {
          "output_type": "stream",
          "text": [
            "Digite el radio menor y el mayor: 3 4\n",
            "El area es: 473.741011252 y el volumen es: 710.611516878\n"
          ],
          "name": "stdout"
        }
      ]
    },
    {
      "metadata": {
        "id": "PgqWFNG5MH_S",
        "colab_type": "text"
      },
      "cell_type": "markdown",
      "source": [
        "- Encuentre el área de la unión de dos rectangulos."
      ]
    },
    {
      "metadata": {
        "id": "ip48gHdNMmkj",
        "colab_type": "text"
      },
      "cell_type": "markdown",
      "source": [
        "Especificación: El rectangulo se especificara con las coordenadas x,y de la esquina superior izquierda y su ancho(w) y alto(h):\n",
        "\n",
        "* Step 1: Start\n",
        "* Step 2: Declarar variables x,y,w,h (Del primer rectangulo) y  x2,y2,w2,h2 (Del primer rectangulo) .\n",
        "* Step 2: Declarar variables x_dif y y_dif y asignarles el valor de 0\n",
        "* Step 3: Leer el valor de x,y,w,h,x2,y2,w2,h2.\n",
        "* Step 4: Si ((x+w)>x2 y (y-h)<y2) ó ((x2+w2)>x y (y2-h2)<y) entonces:\n",
        " * Step 4.1: Declarar las variables x_dif y y_dif\n",
        " * Step 4.2: Asignar el valor absoluto de (x+w) - (x2+w2) a la variable x_dif\n",
        "  * Step 4.3: Asignar el valor absoluto de (y+h) - (y2+h2) a la variable y_dif\n",
        "  * Step 4.4: Si x_dif es 0, asignar el valor de w a x_dif\n",
        "  * Step 4.4: Si y_dif es 0, asignar el valor de w a y_dif  \n",
        "* Step 5: Imprimir el valor de la ecuacion abs(((h*w)+(h2*w2)) - (x_dif*y_dif)))\n",
        "* Step 6: Stop"
      ]
    },
    {
      "metadata": {
        "id": "CUESPjKTMIJS",
        "colab_type": "code",
        "colab": {
          "base_uri": "https://localhost:8080/",
          "height": 34
        },
        "outputId": "7edce0e8-cc2c-4e25-ebb1-1a118a18d4c0"
      },
      "cell_type": "code",
      "source": [
        "from math import fabs\n",
        "\n",
        "x,y,w,h = [2,2,2,2]\n",
        "x2,y2,w2,h2 = [2,3,2,2]\n",
        "x_dif,y_dif = 0,0\n",
        "if ((x+w)>x2 and (y-h)<y2) or ((x2+w2)>x and (y2-h2)<y):\n",
        "  x_dif= fabs((x+w) - (x2+w2))\n",
        "  y_dif= fabs((y+h) - (y2+h2))\n",
        "  if x_dif == 0:\n",
        "    x_dif = w\n",
        "  if y_dif == 0:\n",
        "    y_dif = h\n",
        "print (\"El area es: \" + str(fabs(((h*w)+(h2*w2)) - (x_dif*y_dif))) +\" m2\")"
      ],
      "execution_count": 111,
      "outputs": [
        {
          "output_type": "stream",
          "text": [
            "El area es: 6.0 m2\n"
          ],
          "name": "stdout"
        }
      ]
    },
    {
      "metadata": {
        "id": "w6aG4ekFFfv8",
        "colab_type": "text"
      },
      "cell_type": "markdown",
      "source": [
        "- Verifique si una lista con números es palindrome o no."
      ]
    },
    {
      "metadata": {
        "id": "yVWZR-0zMnf6",
        "colab_type": "text"
      },
      "cell_type": "markdown",
      "source": [
        "Especificación:\n",
        "* Step 1: Start\n",
        "* Step 2: Declarar variable numbers.\n",
        "* Step 3: Leer el valor de numbers\n",
        "* Step 4: Declarar las variables index_i, index_f, isPalindrome\n",
        "* Step 5: Inicializar las variables index_i = 0, index_f = 0, isPalindrome = True\n",
        "* Step 6: Inicializar el bucle mientras index_i sea menor que index_f\n",
        "  * Step 6.1: Si la letra en string numbers en la posición index_i es un espacio en blanco incrementar index_i por 1\n",
        "  * Step 6.2: Si la letra en string numbers en la posición index_j es un espacio en blanco disminuir index_j por 1\n",
        "   * Step 6.3: Si ninguna de las anteriores condiciones se cumple entonces:\n",
        "     * Step 6.3.1: Si la letra en la posición index_i es diferente  al de la posición index_f entonces asignarle a la variables isPalindrome el valor de False y salir del bucle\n",
        "      * Step 6.3.2: incrementar index_i por 1 y disminuir index_j por 1\n",
        "* Step 7: Si isPalindrome es True entonces imprimir \"Es palindrome\", si isPalindrome es False entonces imprimir \"No es palindrome\"\n",
        "* Step 8: Stop"
      ]
    },
    {
      "metadata": {
        "id": "-91xnpfrFf3S",
        "colab_type": "code",
        "colab": {
          "base_uri": "https://localhost:8080/",
          "height": 52
        },
        "outputId": "40ba9427-81b5-447d-8566-b44a1a415970"
      },
      "cell_type": "code",
      "source": [
        "numbers = raw_input(\"Digite la lista de números: \")\n",
        "index_i, index_f, isPalindrome= 0,len(numbers)-1, True\n",
        "\n",
        "while index_i<index_f:\n",
        "  if numbers[index_i] == \" \":\n",
        "    index_i += 1\n",
        "  elif numbers[index_f] == \" \":\n",
        "    index_f -= 1\n",
        "  else:\n",
        "    if numbers[index_i] != numbers[index_f]:\n",
        "      isPalindrome = False\n",
        "      break\n",
        "    index_i += 1\n",
        "    index_f -= 1\n",
        "if isPalindrome:\n",
        "  print(\"Es palindrome\")\n",
        "else:\n",
        "  print(\"No es palindrome\")"
      ],
      "execution_count": 115,
      "outputs": [
        {
          "output_type": "stream",
          "text": [
            "Digite la lista de números: 12 3 12\n",
            "No es palindrome\n"
          ],
          "name": "stdout"
        }
      ]
    },
    {
      "metadata": {
        "id": "47xu0dynFw9R",
        "colab_type": "text"
      },
      "cell_type": "markdown",
      "source": [
        "- Un joyero vino de Siria para vender joyas en Bagdad. Prometió que pagaría por el hospedaje 20 dinares si el dueño de la hostería vendía todas las joyas por 100 dinares; y 35 dinares si las vendía por 200 dinares. Al cabo de varios días, tras andar de aquí para allá, acabó vendiéndolas todas por 140 dinares. ¿Cuánto debe pagar el joyero de acuerdo con el trato de hospedaje?"
      ]
    },
    {
      "metadata": {
        "id": "ip0bTLoOMo6a",
        "colab_type": "text"
      },
      "cell_type": "markdown",
      "source": [
        "Especificación:\n",
        "\n",
        "* Step 1: Start\n",
        "* Step 2: Imprimir el valor de la ecuación (40*15)/100 + 20\n",
        "* Step 3: Stop"
      ]
    },
    {
      "metadata": {
        "id": "MzX3bSIxFxIa",
        "colab_type": "code",
        "colab": {
          "base_uri": "https://localhost:8080/",
          "height": 34
        },
        "outputId": "cee5656b-e96d-448c-e44a-68758f06872b"
      },
      "cell_type": "code",
      "source": [
        "print(\"La deuda a pagar es de: \" +str((40*15)/100 + 20) + \" dinares\")"
      ],
      "execution_count": 34,
      "outputs": [
        {
          "output_type": "stream",
          "text": [
            "La deuda a pagar es de: 26 dinares\n"
          ],
          "name": "stdout"
        }
      ]
    },
    {
      "metadata": {
        "id": "U_pGWTaMH3Bj",
        "colab_type": "text"
      },
      "cell_type": "markdown",
      "source": [
        "- Determine el área y el volumen de un cono truncado."
      ]
    },
    {
      "metadata": {
        "id": "H11fWvIjMqPC",
        "colab_type": "text"
      },
      "cell_type": "markdown",
      "source": [
        "Especificación:\n",
        "* Step 1: Start\n",
        "* Step 2: Declarar las variables r1 (radio menor),r2 (radio mayor) y h (altura)\n",
        "* Step 3: Imprimir el resultado de la ecuación (1/3) ⋅ pi  ⋅ ((r2^2) + (r1⋅r2) + (r1^2)) ⋅ h (Area)\n",
        "* Step 4: Imprimir el resultado de la ecuación (pi⋅(r1+r2)⋅sqrt((r1-r2)+(h⋅h)))+(pi⋅((r1⋅r1)+(r2⋅r2))) (Volumen)\n",
        "* Step 5: Stop"
      ]
    },
    {
      "metadata": {
        "id": "ovco97_WH202",
        "colab_type": "code",
        "colab": {
          "base_uri": "https://localhost:8080/",
          "height": 69
        },
        "outputId": "751202d6-d469-4f1c-a926-596ca227246c"
      },
      "cell_type": "code",
      "source": [
        "from math import pi, sqrt\n",
        "r1, r2, h = [ float(x) for x in raw_input(\"Digite el radio menor, radio mayor y altura: \").split()]\n",
        "print(\"El area es: \"+str((0.33333333333)*pi*((r1*r1)+(r1*r2)+(r2*r2))*h))\n",
        "print(\"El volumen es:\"+str((pi*(r1+r2)*sqrt((r1-r2)+(h*h)))+(pi*((r1*r1)+(r2*r2)))) )"
      ],
      "execution_count": 43,
      "outputs": [
        {
          "output_type": "stream",
          "text": [
            "Digite el radio menor, radio mayor y altura: 4 4 3\n",
            "El area es: 150.796447371\n",
            "El volumen es:175.929188601\n"
          ],
          "name": "stdout"
        }
      ]
    },
    {
      "metadata": {
        "id": "jBWg_ikhSAlB",
        "colab_type": "text"
      },
      "cell_type": "markdown",
      "source": [
        ""
      ]
    },
    {
      "metadata": {
        "id": "zenG-SPxJerZ",
        "colab_type": "text"
      },
      "cell_type": "markdown",
      "source": [
        "- Cuente el número de ocurrencias de una variable $x$ en una lista."
      ]
    },
    {
      "metadata": {
        "id": "LP8Cvq59MrMC",
        "colab_type": "text"
      },
      "cell_type": "markdown",
      "source": [
        "Especificación:\n",
        "* Step 1: Start\n",
        "* Step 2: Declarar un array con la lista de objetos list_no\n",
        "* Step 3: Declara la variable search_no (la variable x que se va a buscar)\n",
        "* Step 4: Declarar la variable res e inicializarla con el valor 0 \n",
        "* Step 5: Inicializar un bucle que itere por todos los elementos de la lista list_no\n",
        "  * Step 5: Si un elemento de la lista es igual a la variable search_no buscada incrementar res por 1\n",
        "* Step 6: Imprimir la variable res (con el número de ocurrencias)\n",
        "* Step 7: Stop"
      ]
    },
    {
      "metadata": {
        "id": "w2ogfRuDJX3j",
        "colab_type": "code",
        "colab": {
          "base_uri": "https://localhost:8080/",
          "height": 52
        },
        "outputId": "01d8a41e-a998-4959-b40d-39333787e9d3"
      },
      "cell_type": "code",
      "source": [
        "list_no = [3,3,3,4,\"ab\",2,1,\"a\",3,2,1,4]\n",
        "search_no = raw_input()\n",
        "try:\n",
        "    temp = float(search_no)\n",
        "    search_no = temp\n",
        "except ValueError:\n",
        "    search_no = search_no    \n",
        "res = 0\n",
        "for i in list_no:\n",
        "  if i == search_no:\n",
        "    res += 1\n",
        "print(\"Número de ocurrencias: \"+str(res))"
      ],
      "execution_count": 80,
      "outputs": [
        {
          "output_type": "stream",
          "text": [
            "3\n",
            "Número de ocurrencias: 4\n"
          ],
          "name": "stdout"
        }
      ]
    },
    {
      "metadata": {
        "id": "H-LJAK7WLUdT",
        "colab_type": "text"
      },
      "cell_type": "markdown",
      "source": [
        "- Dado un año de nacimiento determine el animal correspondiente en el calendario chino."
      ]
    },
    {
      "metadata": {
        "id": "A0R9fDU0LU_h",
        "colab_type": "text"
      },
      "cell_type": "markdown",
      "source": [
        "Especificación:\n",
        "* Step 1: Start\n",
        "* Step 2: Declarar una variable (x) que guarde el año de nacimiento\n",
        "* Step 3: Leer el valor de la variable x\n",
        "* Step 4: Declarar una lista (animals) e incializarla con todos los animales del calendario chino\n",
        "* Step 5: Imprimir el item de la lista ubicado en el indice (x%12)-4 \n",
        "* Step 6: Stop"
      ]
    },
    {
      "metadata": {
        "id": "rD4KA2bNLVwk",
        "colab_type": "code",
        "colab": {
          "base_uri": "https://localhost:8080/",
          "height": 52
        },
        "outputId": "b95d98fe-f984-412c-81cb-9f767d555cf8"
      },
      "cell_type": "code",
      "source": [
        "x = int(raw_input(\"Digite el año de nacimiento: \"))\n",
        "animals = [\"rat (鼠—shǔ)\",\"ox (牛—niú)\",\"tiger (虎—hǔ)\",\"rabbit (兔—tù)\", \n",
        "           \"dragon (龙—lóng)\",\"snake (蛇—shé)\",\"horse (马—mǎ)\",\"goat (羊—yang)\",\n",
        "           \"monkey (猴—hóu)\",\"rooster (鸡—jī)\",\"dog (狗—gǒu)\",\"pig (猪—zhū)\"]\n",
        "print(\"El animal correspondiente es: \"+animals[x%12-4])\n"
      ],
      "execution_count": 64,
      "outputs": [
        {
          "output_type": "stream",
          "text": [
            "Digite el año de nacimiento: 1993\n",
            "El animal correspondiente es: rooster (鸡—jī)\n"
          ],
          "name": "stdout"
        }
      ]
    },
    {
      "metadata": {
        "id": "7dyDo3WmMV9P",
        "colab_type": "text"
      },
      "cell_type": "markdown",
      "source": [
        "- Genere el $n$-esimo termino de la [serie de Lucas](https://en.wikipedia.org/wiki/Lucas_number)."
      ]
    },
    {
      "metadata": {
        "id": "6QyDrGi3MWHI",
        "colab_type": "text"
      },
      "cell_type": "markdown",
      "source": [
        "Especificación:\n",
        "* Step 1: Start\n",
        "* Step 2: Declarar una variable n\n",
        "* Step 3: Leer el valor de la variable n\n",
        "* Step 4: Declarar una variable s1,s2 e inicializarlas como 2 y 1 respectivamente\n",
        "* Step 5: Si n = 0 entonces imprimir s1\n",
        "* Step 6: Si n = 1 entonces imprimir s2\n",
        "* Step 7: Si n < 0 entonces imprimir \"Input equivocado\"\n",
        "* Step 7: Si n  > 1 entonces:\n",
        "  * Step 7.1: Iniciar un bucle que inicialize el indice en 0, incrementandolo en 1 en cada repetición. Ttermina cuando i = n-2. En el bucle:\n",
        "    * Step 7.1: Declarar una variable temporal t y asignarle s2\n",
        "    * Step 7.2: Asignarle a s2 el valor de S1+s2\n",
        "    * Step 7.2: Asignarle a s1 el valor de t\n",
        "  * Step 7.2. Imprimir s2\n",
        "* Step 8: Stop"
      ]
    },
    {
      "metadata": {
        "id": "d-KrshrZMWZe",
        "colab_type": "code",
        "colab": {
          "base_uri": "https://localhost:8080/",
          "height": 69
        },
        "outputId": "f5d93d46-57c3-40df-a847-5999aea00c3a"
      },
      "cell_type": "code",
      "source": [
        "n = int(raw_input(\"Digite n: \"))\n",
        "s1, s2 = 2,1\n",
        "print(\"n-esimo término: \")\n",
        "if n==0:\n",
        "  print(s1)\n",
        "elif n==1:\n",
        "  print(s2)\n",
        "elif n<0:\n",
        "  print(\"Wrong input\")\n",
        "else:\n",
        "  for i in range(0,n-2):\n",
        "    t = s2\n",
        "    s2 = s1+s2\n",
        "    s1 = t\n",
        "  print(s2)"
      ],
      "execution_count": 78,
      "outputs": [
        {
          "output_type": "stream",
          "text": [
            "Digite n: 4\n",
            "n-esimo término: \n",
            "4\n"
          ],
          "name": "stdout"
        }
      ]
    }
  ]
}