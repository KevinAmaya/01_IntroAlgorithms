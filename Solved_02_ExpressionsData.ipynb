{
  "nbformat": 4,
  "nbformat_minor": 0,
  "metadata": {
    "colab": {
      "name": "Solved 02_ExpressionsData.ipynb",
      "version": "0.3.2",
      "provenance": [],
      "collapsed_sections": []
    },
    "kernelspec": {
      "display_name": "Python [Root]",
      "language": "python",
      "name": "Python [Root]"
    }
  },
  "cells": [
    {
      "metadata": {
        "id": "3oxedQvB1c5p",
        "colab_type": "text",
        "slideshow": {
          "slide_type": "skip"
        }
      },
      "cell_type": "markdown",
      "source": [
        "[texto del enlace](https://)<table>\n",
        " <tr align=left><td><img align=left src=\"https://drive.google.com/uc?export=view&id=1edefIUL_iwWk4K3KtrNynSJ0Qvpdb2YY\">\n",
        " <td>Text provided under a Creative Commons Attribution license, CC-BY. All code is made available under the FSF-approved MIT license. (c) Francisco Gómez</td>\n",
        "</table>"
      ]
    },
    {
      "metadata": {
        "id": "Xq_hs1jGRtLR",
        "colab_type": "text"
      },
      "cell_type": "markdown",
      "source": [
        "*“Always code as if the guy who ends up maintaining your code will be a violent psychopath who knows where you live.” *\n",
        "\n",
        "__Martin Golding__"
      ]
    },
    {
      "metadata": {
        "id": "zYW3ZR0NSLk7",
        "colab_type": "text"
      },
      "cell_type": "markdown",
      "source": [
        "## Problemas"
      ]
    },
    {
      "metadata": {
        "id": "zGjlutCwuPQ9",
        "colab_type": "code",
        "colab": {}
      },
      "cell_type": "code",
      "source": [
        ""
      ],
      "execution_count": 0,
      "outputs": []
    },
    {
      "metadata": {
        "id": "VGPAaTVmGR7h",
        "colab_type": "text"
      },
      "cell_type": "markdown",
      "source": [
        "\n",
        "\n",
        "Para los problemas de programación:\n",
        "1. [Especifique en lenguaje natural](https://courses.cs.vt.edu/csonline/Algorithms/Lessons/SpecifyingAlgorithms/index.html)\n",
        "2. Escriba el código en pyhton. \n"
      ]
    },
    {
      "metadata": {
        "id": "B72fnfAPFZNz",
        "colab_type": "text"
      },
      "cell_type": "markdown",
      "source": [
        "* Encuentre el área del camino, donde un camino mide 14 cm de ancho, rodea un césped circular cuyo diámetro es de 360 cm.."
      ]
    },
    {
      "metadata": {
        "id": "CZosDsZ8Mhp5",
        "colab_type": "text"
      },
      "cell_type": "markdown",
      "source": [
        "Especificación:\n",
        "* Step 1: Start\n",
        "* Step 2: Resolver la operación pi x 360 x 14\n",
        "* Step 3: Imprimir el resultado de la anterior operación\n",
        "* Step 4: Stop"
      ]
    },
    {
      "metadata": {
        "id": "JiCFfhv2FZWL",
        "colab_type": "code",
        "colab": {
          "base_uri": "https://localhost:8080/",
          "height": 34
        },
        "outputId": "5878e98e-1251-4f85-8206-51b3e2a3c1c7"
      },
      "cell_type": "code",
      "source": [
        "from math import pi \n",
        "print(\"El area es: \"+str(pi*360*14)+\"cm2\")"
      ],
      "execution_count": 2,
      "outputs": [
        {
          "output_type": "stream",
          "text": [
            "El area es: 15833.6269741cm2\n"
          ],
          "name": "stdout"
        }
      ]
    },
    {
      "metadata": {
        "id": "FP5SChrPE1qp",
        "colab_type": "text"
      },
      "cell_type": "markdown",
      "source": [
        "* Encuentre el área de un hexagono cuyo lado es 4cm\n"
      ]
    },
    {
      "metadata": {
        "id": "lDrps4GJMZCl",
        "colab_type": "text"
      },
      "cell_type": "markdown",
      "source": [
        "Especificación:\n",
        "* Step 1: Start\n",
        "* Step 2: Resolver la operación (3*sqrt(3)*4*4)/2\n",
        "* Step 3: Imprimir el resultado de la anterior operación\n",
        "* Step 4: Stop"
      ]
    },
    {
      "metadata": {
        "id": "HXJhejw4FLsy",
        "colab_type": "code",
        "colab": {
          "base_uri": "https://localhost:8080/",
          "height": 34
        },
        "outputId": "e245c450-57d4-4228-f48b-14854c60a604"
      },
      "cell_type": "code",
      "source": [
        "from math import sqrt\n",
        "print((3*sqrt(3)*4*4)/2)"
      ],
      "execution_count": 3,
      "outputs": [
        {
          "output_type": "stream",
          "text": [
            "41.5692193817\n"
          ],
          "name": "stdout"
        }
      ]
    },
    {
      "metadata": {
        "id": "OKKbv1BKFMex",
        "colab_type": "text"
      },
      "cell_type": "markdown",
      "source": [
        "- Resuelva la ecuación radical $ \\sqrt[3]{x}=9$"
      ]
    },
    {
      "metadata": {
        "id": "oE6KYD3gMkiy",
        "colab_type": "text"
      },
      "cell_type": "markdown",
      "source": [
        "Especificación:\n",
        "* Step 1: Start\n",
        "* Step 2: Resolver la operación 9**(1./3)\n",
        "* Step 3: Imprimir el resultado de la anterior operación\n",
        "* Step 4: Stop"
      ]
    },
    {
      "metadata": {
        "id": "BAbcz9nISYcU",
        "colab_type": "code",
        "colab": {
          "base_uri": "https://localhost:8080/",
          "height": 34
        },
        "outputId": "f86138ca-6f64-4060-c5c7-75d44205c666"
      },
      "cell_type": "code",
      "source": [
        "print(\"x = \"+str(9 ** (1. / 3)))"
      ],
      "execution_count": 7,
      "outputs": [
        {
          "output_type": "stream",
          "text": [
            "x = 2.08008382305\n"
          ],
          "name": "stdout"
        }
      ]
    },
    {
      "metadata": {
        "id": "PgqWFNG5MH_S",
        "colab_type": "text"
      },
      "cell_type": "markdown",
      "source": [
        "- Calcule la fuerza de atracción entre dos cuerpos, la cual es igual al producto de una constante k por las masas de los cuerpos y el cociente que resulta del cuadrado de su distancia.\n",
        "\n"
      ]
    },
    {
      "metadata": {
        "id": "ip48gHdNMmkj",
        "colab_type": "text"
      },
      "cell_type": "markdown",
      "source": [
        "Especificación:\n",
        "* Step 1: Start\n",
        "* Step 2: Crear y asignarle valores a las variables k, masa1(m1), masa2(m2) y r(distancia)\n",
        "* Step 3: Resolver la operación (k*m1*m2)/(r ** 2) \n",
        "* Step 4: Imprimir el resultado de la anterior operación\n",
        "* Step 5: Stop"
      ]
    },
    {
      "metadata": {
        "id": "CUESPjKTMIJS",
        "colab_type": "code",
        "colab": {
          "base_uri": "https://localhost:8080/",
          "height": 34
        },
        "outputId": "27b6bd93-086e-4975-d439-0dedb7d2d087"
      },
      "cell_type": "code",
      "source": [
        "k,m1,m2,r = 3,40,50,6\n",
        "print((k*m1*m2)/(r**2))"
      ],
      "execution_count": 4,
      "outputs": [
        {
          "output_type": "stream",
          "text": [
            "166\n"
          ],
          "name": "stdout"
        }
      ]
    },
    {
      "metadata": {
        "id": "w6aG4ekFFfv8",
        "colab_type": "text"
      },
      "cell_type": "markdown",
      "source": [
        "- ¿Cuál es el área de un triángulo cuyos lados tienen una longitud de $a$ y $b$, cuyo ángulo interno entre estos dos lados es de $\\alpha$ grados?."
      ]
    },
    {
      "metadata": {
        "id": "yVWZR-0zMnf6",
        "colab_type": "text"
      },
      "cell_type": "markdown",
      "source": [
        "Especificación:\n",
        "* Step 1: Start\n",
        "* Step 2: Crear y asignarle valores a las variables a, b y ángulo interno(alpha)\n",
        "* Step 3: Transformar alpha en radianes con la operación (pi*alpha)/180\n",
        "* Step 4: Resolver la operación (a*b*sin(alpha))/(2) \n",
        "* Step 5: Imprimir el resultado de la anterior operación\n",
        "* Step 6: Stop"
      ]
    },
    {
      "metadata": {
        "id": "-91xnpfrFf3S",
        "colab_type": "code",
        "colab": {
          "base_uri": "https://localhost:8080/",
          "height": 34
        },
        "outputId": "16b990fb-ce75-4137-d4b8-5bf5d4853b9c"
      },
      "cell_type": "code",
      "source": [
        "  from math import sin, pi\n",
        "  a,b,alpha  = 3,2,60 \n",
        "  alpha = (pi*alpha)/180\n",
        "  print ((a*b*sin(alpha))/2)"
      ],
      "execution_count": 11,
      "outputs": [
        {
          "output_type": "stream",
          "text": [
            "2.59807621135\n"
          ],
          "name": "stdout"
        }
      ]
    },
    {
      "metadata": {
        "id": "47xu0dynFw9R",
        "colab_type": "text"
      },
      "cell_type": "markdown",
      "source": [
        "- Calcule las raíces de un polinomio de tercer grado, asuma que las raíces son reales."
      ]
    },
    {
      "metadata": {
        "id": "ip0bTLoOMo6a",
        "colab_type": "text"
      },
      "cell_type": "markdown",
      "source": [
        "Especificación:\n",
        "* Step 1: Start\n",
        "* Step 2: Crear y asignarle valores a las variables a, b, c y d de la ecuación a*x^3 + b*x^2 + c*x + d\n",
        "* Step 3: Declarar y crear la variable g con el resultado de la operación (((2*(b^3)) / (a^3)) - ((9*b* c) / (a^2)) + (27 * d/a)) / 27\n",
        "* Step 4: Declarar y crear la variable f con el resultado de la operación ((3*c/a) - ((b^2.0) / (a^2.0))) / 3\n",
        "* Step 5: Declarar y crear la variable h con el resultado de la operación (g^2.0) / 4.0 + (f^3.0) / 27.0)\n",
        "* Step 6: Declarar y crear la variable j con el resultado de i^(1/3)\n",
        "* Step 7: Declarar y crear la variable i con el resultado de  sqrt(((g^2.0) / 4.0) - h)\n",
        "* Step 8: Declarar y crear la variable k con el resultado de acos(-(g / (2 * i)))\n",
        "* Step 9: Declarar y crear la variable L y asignarle el resultado de j * -1\n",
        "* Step 10: Declarar y crear la variable M y asignarle el resultado de cos(k /3)\n",
        "* Step 11: Declarar y crear la variable N y asignarle el resultado de sqrt(3) *sin(k / 3.0)\n",
        "* Step 12: Declarar y crear la variable P y asignarle el resultado de (b / (3.0 * a)) * -1\n",
        "* Step 13: Crear la variable X1 y asignarle el resultado de la operación 2*j*cos(k/3)-(b/(3*a))\n",
        "* Step 14: Crear la variable X2 y asignarle el resultado de la operación  L*(M+N) + P\n",
        "* Step 15: Crear la variable X3 y asignarle el resultado de la operación  L*(M-N) + P\n",
        "* Step 16: Imprimir los valores X1, X2, X3\n",
        "* Step 17: Stop"
      ]
    },
    {
      "metadata": {
        "id": "MzX3bSIxFxIa",
        "colab_type": "code",
        "colab": {
          "base_uri": "https://localhost:8080/",
          "height": 34
        },
        "outputId": "3924b3ae-85bf-49cb-c83b-452224306632"
      },
      "cell_type": "code",
      "source": [
        "import math\n",
        "import numpy as np\n",
        "\n",
        "def findF(a, b, c):\n",
        "  return ((3.0 * c / a) - ((b ** 2.0) / (a ** 2.0))) / 3.0\n",
        "def findG(a, b, c, d):\n",
        "  return (((2.0 * (b ** 3.0)) / (a ** 3.0)) - ((9.0 * b * c) / (a **2.0)) + (27.0 * d / a)) /27.0\n",
        "def findH(g, f):\n",
        "  return ((g ** 2.0) / 4.0 + (f ** 3.0) / 27.0)\n",
        "\n",
        "a, b, c, d = 1,-8,1,9\n",
        "\n",
        "f = findF(a, b, c)\n",
        "g = findG(a, b, c, d)\n",
        "h = findH(g, f)\n",
        "\n",
        "i = math.sqrt(((g ** 2.0) / 4.0) - h)\n",
        "j = i ** (1 / 3.0)                      # Helper Temporary Variable\n",
        "k = math.acos(-(g / (2 * i)))           # Helper Temporary Variable\n",
        "L = j * -1                              # Helper Temporary Variable\n",
        "M = math.cos(k / 3.0)                   # Helper Temporary Variable\n",
        "N = math.sqrt(3) * math.sin(k / 3.0)    # Helper Temporary Variable\n",
        "P = (b / (3.0 * a)) * -1                # Helper Temporary Variable\n",
        "\n",
        "x1 = 2 * j * math.cos(k / 3.0) - (b / (3.0 * a))\n",
        "x2 = L * (M + N) + P\n",
        "x3 = L * (M - N) + P\n",
        "\n",
        "print(np.array([x1, x2, x3]))"
      ],
      "execution_count": 17,
      "outputs": [
        {
          "output_type": "stream",
          "text": [
            "[ 7.71942332 -0.94855096  1.22912764]\n"
          ],
          "name": "stdout"
        }
      ]
    },
    {
      "metadata": {
        "id": "U_pGWTaMH3Bj",
        "colab_type": "text"
      },
      "cell_type": "markdown",
      "source": [
        "- Encuentre la línea paralela de la línea recta dada $6x - 3y = 2$ que pasa por un punto $(1, 2)$."
      ]
    },
    {
      "metadata": {
        "id": "H11fWvIjMqPC",
        "colab_type": "text"
      },
      "cell_type": "markdown",
      "source": [
        "Especificación:\n",
        "* Step 1: Start\n",
        "* Step 2: Crear y asignarle valores a las variables a, b, c (de la ecuación ax + by = c) y a las coordenadas de punto x,y\n",
        "* Step 3: Crear una variable con el valor (-a)/b llamada s_a\n",
        "* Step 4: Crear una variable con el valor y-(x*s_a) llamada s_b\n",
        "* Step 5: Imprimir la ecuación con la forma y = s_a*x + s_b \n",
        "* Step 6: Stop"
      ]
    },
    {
      "metadata": {
        "id": "ovco97_WH202",
        "colab_type": "code",
        "colab": {
          "base_uri": "https://localhost:8080/",
          "height": 34
        },
        "outputId": "e7bdcdb8-1fbd-4bfe-9d52-3823491bb25c"
      },
      "cell_type": "code",
      "source": [
        "x,y = 1,2\n",
        "a,b,c = 6.0,-3.0,2.0\n",
        "s_a = (-a)/b\n",
        "s_b = y-(x*s_a) \n",
        "print(\"y = \"+str(s_a)+\"x + \"+str(s_b))"
      ],
      "execution_count": 20,
      "outputs": [
        {
          "output_type": "stream",
          "text": [
            "y = 2.0x + 0.0\n"
          ],
          "name": "stdout"
        }
      ]
    },
    {
      "metadata": {
        "id": "zenG-SPxJerZ",
        "colab_type": "text"
      },
      "cell_type": "markdown",
      "source": [
        "- La comida servida en un restaurante debe estar entre 38 ° C y 49 ° C cuando se entrega al cliente. El proceso utilizado para mantener los alimentos a la temperatura correcta tiene una desviación estándar de 2 ° C y el valor medio para estas temperaturas es 40. ¿Cuál es la capacidad de proceso (Cpk - Process capability index)[ https://es.wikipedia.org/wiki/%C3%8Dndice_de_capacidad_del_proceso]?."
      ]
    },
    {
      "metadata": {
        "id": "LP8Cvq59MrMC",
        "colab_type": "text"
      },
      "cell_type": "markdown",
      "source": [
        "Especificación: Asumiendo que el resultado del proceso y centrado con  una distribución normal se tendría que: \n",
        "\n",
        "* Step 1: Start\n",
        "* Step 2: Crear y asignarle valores a las variables LSL (Tolerancia inferior), USL (Tolerancia superior) y STD (desviación estandar)\n",
        "* Step 3: Resolver la operación (USL - LSL)/(6*STD) \n",
        "* Step 5: Imprimir el resultado de la anterior operación\n",
        "* Step 6: Stop"
      ]
    },
    {
      "metadata": {
        "id": "w2ogfRuDJX3j",
        "colab_type": "code",
        "colab": {
          "base_uri": "https://localhost:8080/",
          "height": 34
        },
        "outputId": "b9567f11-4ded-4d4e-cff4-2065adbae9ad"
      },
      "cell_type": "code",
      "source": [
        "LSL,USL,STD = 38.0,49.0,2.0\n",
        "CPK = (USL - LSL)/(6*STD)\n",
        "print(\"Cpk = \"+str(CPK))"
      ],
      "execution_count": 36,
      "outputs": [
        {
          "output_type": "stream",
          "text": [
            "Cpk = 0.916666666667\n"
          ],
          "name": "stdout"
        }
      ]
    },
    {
      "metadata": {
        "id": "fukHFin_JXyz",
        "colab_type": "text"
      },
      "cell_type": "markdown",
      "source": [
        "- ¿Qué tipo de valor (número entero, número de coma flotante o cadena de caracteres) usaría para representar cada uno de los siguientes? Trate de encontrar más de una buena respuesta para cada problema. Por ejemplo, en el n. ° 1, ¿cuándo tendría más sentido contar días con una variable de coma flotante que usar un número entero?\n",
        "\n"
      ]
    },
    {
      "metadata": {
        "id": "2TPd_okYFFBp",
        "colab_type": "text"
      },
      "cell_type": "markdown",
      "source": [
        "\n",
        "- Número de días desde el comienzo del año. (*Escriba aca su respuesta*)\n",
        "\n",
        " - Usaría un tipo entero para guardar el número de días.  Aunque sí medidas más exactas de días como 1/2 dias son permitidas, usaría un flotante (depende del problema en sí)\n",
        "\n",
        "-    Tiempo transcurrido desde el comienzo del año hasta ahora en días. (*Escriba aca su respuesta*)\n",
        " - Debido a como está descrito el problema, usaría un número de coma flotante para describir el tiempo exacto que ha transcurrido expresado en días (siempre y cuando medidas como 1/3 días sean permitidas).\n",
        " \n",
        "-    Número de serie de una pieza de equipo de laboratorio. (*Escriba aca su respuesta*)\n",
        " - Usaría una cadena de caracteres debido a que los números de serie nunca requieren el uso operaciones aritméticas entre ellos. Además un número de serie podría ser especificado con letras y números (\"2A00023\" podría ser un número de serie válido).\n",
        "\n",
        "-    La edad de un espécimen de laboratorio. (*Escriba aca su respuesta*)\n",
        " - Depende del espécimen, aunque generalmente usaría un número entero positivo para especificar la edad en término de días, segundos ó minutos.\n",
        "\n",
        "-    Población actual de una ciudad. (*Escriba aca su respuesta*)\n",
        " - Usaría un entero debido a que una población de 1/2 de personas no tiene sentido en la mayoría de contextos. Además podría ser necesario hacer operaciones aritméticas sobre este dato (tal como sumar o restar población)\n",
        "\n",
        "-    Población promedio de una ciudad a lo largo del tiempo. (*Escriba aca su respuesta*)\n",
        " - Usaría un número de coma flotante, a diferencia de la población actual de una ciudad el promedio es generalmente especificado en números con decimales."
      ]
    },
    {
      "metadata": {
        "id": "NdlROrJqLOw0",
        "colab_type": "text"
      },
      "cell_type": "markdown",
      "source": [
        "- ¿Qué tipo de dato es 4.0+5?."
      ]
    },
    {
      "metadata": {
        "id": "n2iiPoqKMs2T",
        "colab_type": "text"
      },
      "cell_type": "markdown",
      "source": [
        ">(*Escriba aca su respuesta*) En Python daría un tipo de dato float y da como resultado 9.0"
      ]
    }
  ]
}